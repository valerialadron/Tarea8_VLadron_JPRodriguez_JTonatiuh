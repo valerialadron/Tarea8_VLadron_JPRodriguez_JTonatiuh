{
 "cells": [
  {
   "cell_type": "markdown",
   "metadata": {},
   "source": [
    "<img style=\"float: left; margin: 30px 15px 15px 15px;\" src=\"https://pngimage.net/wp-content/uploads/2018/06/logo-iteso-png-5.png\" width=\"300\" height=\"500\" /> \n",
    "    \n",
    "    \n",
    "### <font color='navy'> Simulación de procesos financieros. \n",
    "\n",
    "**Nombres:** Valeria Ladrón de Guevara Vidrio, Juan Pablo Rodriguez Alonso y Jose Tonatiuh Navarro.\n",
    "\n",
    "**Fecha:** 30 de junio del 2021.\n",
    "\n",
    "**Expediente** : if714513, if715180, if722399 .\n",
    "**Profesor:** Oscar David Jaramillo Zuluaga.\n",
    "    \n",
    "**Link Github**: https://github.com/valerialadron/Tarea8_VLadron_JPRodriguez_JTonatiuh\n",
    "\n",
    "# Tarea 8: Clase 14"
   ]
  },
  {
   "cell_type": "markdown",
   "metadata": {},
   "source": [
    "<img src=\"captura8.png\">\n",
    "Además use el método de estratificación donde se divide en B estratos, visto la clase pasada y compare el resultado con los métodos anteriores cuando se toman $2,4,6,10$ estratos respectivamente, concluya."
   ]
  },
  {
   "cell_type": "markdown",
   "metadata": {},
   "source": [
    "**Solución Valeria**"
   ]
  },
  {
   "cell_type": "markdown",
   "metadata": {},
   "source": [
    "$$F(x)=\\int_{-1}^{x}\\frac{3}{2}y^2\\text{d}y=\\left.\\frac{y^3}{2}\\right|_{y=-1}^{y=x}=\\frac{x^3}{2}-\\frac{(-1)^3}{2}$$\n",
    "\n",
    ">$$ U = \\frac{x^3}{2}+\\frac{1}{2}$$\n",
    ">\n",
    "> $$ U - \\frac{1}{2} = \\frac{x^3}{2}$$\n",
    ">\n",
    "> $$ 2(U - \\frac{1}{2}) = x^3 $$\n",
    ">\n",
    "> $$ x = \\sqrt[3]{2(U - \\frac{1}{2})}$$"
   ]
  },
  {
   "cell_type": "code",
   "execution_count": 1,
   "metadata": {},
   "outputs": [],
   "source": [
    "import numpy as np\n",
    "import pandas as pd\n",
    "import matplotlib.pyplot as plt"
   ]
  },
  {
   "cell_type": "code",
   "execution_count": 2,
   "metadata": {},
   "outputs": [],
   "source": [
    "N = 10\n",
    "def f(x):\n",
    "    if -1 <= x <= 1:\n",
    "        f = (3/2) * x**2\n",
    "    else:\n",
    "        f = 0\n",
    "    return f\n",
    "\n",
    "# Función inversa\n",
    "f_inv= lambda u: np.cbrt(2*u-1)"
   ]
  },
  {
   "cell_type": "code",
   "execution_count": 3,
   "metadata": {},
   "outputs": [
    {
     "name": "stdout",
     "output_type": "stream",
     "text": [
      "Media usando montecarlo crudo =  -0.13560233194001733\n"
     ]
    }
   ],
   "source": [
    "# 1. Montecarlo crudo\n",
    "u1 = np.random.rand(N)\n",
    "f_u1 = list(map(f_inv,u1))\n",
    "media_montecarlo = np.array(f_u1)\n",
    "\n",
    "print('Media usando montecarlo crudo = ', media_montecarlo.mean())"
   ]
  },
  {
   "cell_type": "code",
   "execution_count": 4,
   "metadata": {},
   "outputs": [
    {
     "name": "stdout",
     "output_type": "stream",
     "text": [
      "Media usando metodo estratificado = 0.06388227598346692\n"
     ]
    }
   ],
   "source": [
    "# 2. Método estratificado \n",
    "#aleatorios \n",
    "r1 = np.random.uniform(0, 0.6, 3)\n",
    "r2 = np.random.uniform(0.6, 0.9, 3)\n",
    "r3 = np.random.uniform(0.9, 1, 4)\n",
    "r  = [r1,r2,r3]\n",
    "#estratos\n",
    "m  = range(len(r))  \n",
    "w  = [1/2,1,4]\n",
    "xi = list(map(f_inv, r)) #funcion entre su w\n",
    "\n",
    "muestras = list(map(lambda wi,xi:xi/wi,w,xi))\n",
    "\n",
    "print('Media usando metodo estratificado =', np.concatenate(muestras).mean())"
   ]
  },
  {
   "cell_type": "code",
   "execution_count": 5,
   "metadata": {},
   "outputs": [
    {
     "name": "stdout",
     "output_type": "stream",
     "text": [
      "Media usando números complementarios =  0.0\n"
     ]
    }
   ],
   "source": [
    "# 3. Método números complementarios\n",
    "u2 = 1 - u1[:int(N/2)]\n",
    "f_u2 = list(map(f_inv, u2))\n",
    "media_complementario = (np.mean(f_u2) + media_montecarlo[:int(N/2)].mean()) / 2\n",
    "\n",
    "print('Media usando números complementarios = ', media_complementario)"
   ]
  },
  {
   "cell_type": "code",
   "execution_count": 6,
   "metadata": {},
   "outputs": [
    {
     "name": "stdout",
     "output_type": "stream",
     "text": [
      "Media usando metodo estratificado con 2 estratos = 0.25619088208122637\n",
      "Media usando metodo estratificado con 4 estratos = -0.01615727835643782\n",
      "Media usando metodo estratificado con 6 estratos = 0.04866645857734111\n",
      "Media usando metodo estratificado con 10 estratos = -0.034567720932592326\n"
     ]
    }
   ],
   "source": [
    "# 4. Método estratificacion con estratos 2,4,6,10\n",
    "def estrat(B:'Cantidad de estratos'):\n",
    "    U2 = np.random.rand(B)\n",
    "    i = np.arange(0, B)\n",
    "    v = (U2 + i) / B\n",
    "    return v\n",
    "\n",
    "u_es2=estrat(2)\n",
    "dosestratos=f_inv(u_es2).mean()\n",
    "\n",
    "u_es4=estrat(4)\n",
    "cuatroestratos=f_inv(u_es4).mean()\n",
    "\n",
    "u_es6=estrat(6)\n",
    "seisestratos=f_inv(u_es6).mean()\n",
    "\n",
    "u_es10=estrat(10)\n",
    "diezestratos=f_inv(u_es10).mean()\n",
    "\n",
    "print('Media usando metodo estratificado con 2 estratos =', dosestratos)\n",
    "print('Media usando metodo estratificado con 4 estratos =', cuatroestratos)\n",
    "print('Media usando metodo estratificado con 6 estratos =', seisestratos)\n",
    "print('Media usando metodo estratificado con 10 estratos =', diezestratos)"
   ]
  },
  {
   "cell_type": "markdown",
   "metadata": {},
   "source": [
    "**Conclusión**\n",
    "> Podemos observar que cada método arroja resultados diferentes sin embargo, muy parecidos. El método de estratificación podría ser el más preciso a los demás."
   ]
  },
  {
   "cell_type": "markdown",
   "metadata": {},
   "source": [
    "**Código solución Juan Pablo:**"
   ]
  },
  {
   "cell_type": "markdown",
   "metadata": {},
   "source": [
    ">Integramos la función en el intérvalo correspondiente $$F(x)=\\int_{-1}^{x}\\frac{3}{2}y^2\\text{d}y = $$ \n",
    "$$ = \\left.\\frac{y^3}{2}\\right|_{y=-1}^{y=x}=\\frac{x^3}{2}+\\frac{1}{2}$$\n",
    "\n",
    "> Igualamos a U $$ U = \\frac{x^3}{2}+\\frac{1}{2}$$\n",
    "> $$ U = \\frac{x^3+1}{2}$$\n",
    "> Hacemos procesos para despejar x $$ 2U = x^3 + 1$$\n",
    "\n",
    "> $$ 2U - 1 = x^3 $$\n",
    ">\n",
    "> $$ x = \\sqrt[3]{2U - 1}$$"
   ]
  },
  {
   "cell_type": "code",
   "execution_count": 7,
   "metadata": {},
   "outputs": [
    {
     "name": "stdout",
     "output_type": "stream",
     "text": [
      "Media utilizando el método de Montecarlo crudo:  0.02970464078073116\n"
     ]
    }
   ],
   "source": [
    "import numpy as np\n",
    "import pandas as pd\n",
    "\n",
    "# A) MonteCarlo Crudo\n",
    "N = 1000\n",
    "\n",
    "f = lambda x: (3/2)*x**2 if -1<=x<=1 else 0\n",
    "h = lambda u: (2*u-1)**(1/3) if u > 0.5 else -(1-2*u)**(1/3)\n",
    "\n",
    "u1 = np.random.rand(N)\n",
    "f_u1 = list(map(f,u1))\n",
    "media_montecarlo = np.mean(list(map(h, u1)))\n",
    "\n",
    "print('Media utilizando el método de Montecarlo crudo: ', media_montecarlo)"
   ]
  },
  {
   "cell_type": "code",
   "execution_count": 8,
   "metadata": {},
   "outputs": [
    {
     "data": {
      "text/plain": [
       "-0.1409491250670776"
      ]
     },
     "execution_count": 8,
     "metadata": {},
     "output_type": "execute_result"
    }
   ],
   "source": [
    "# B) Muestrero estratificado 0 <=F(x) <= 0.6, 0.6 < F(x) <= 0.9, 0.9 < F(x) <= 1\n",
    "r1 = np.random.uniform(0,0.6,3)\n",
    "r2 = np.random.uniform(0.6,0.9,3)\n",
    "r3 = np.random.uniform(0.9,1,4)\n",
    "r = [r1,r2,r3]\n",
    "w = [1/2,1,4]\n",
    "\n",
    "\n",
    "fINV = lambda x: np.array(list(map(lambda i: h(i),x)))\n",
    "xi = list(map(fINV,r))\n",
    "muestras =  np.concatenate(list(map(lambda i,wi: i/wi,xi,w)))\n",
    "muestras.mean()"
   ]
  },
  {
   "cell_type": "code",
   "execution_count": 9,
   "metadata": {},
   "outputs": [
    {
     "data": {
      "text/plain": [
       "0.0"
      ]
     },
     "execution_count": 9,
     "metadata": {},
     "output_type": "execute_result"
    }
   ],
   "source": [
    "# C) Números complementarios\n",
    "\n",
    "u2 = np.random.rand(int(N/2))\n",
    "u2_c = 1 - u2\n",
    "\n",
    "media_complementario = np.mean(list(map(lambda u: h(u), np.concatenate([u2, u2_c]))))\n",
    "media_complementario"
   ]
  },
  {
   "cell_type": "code",
   "execution_count": 10,
   "metadata": {},
   "outputs": [
    {
     "data": {
      "text/plain": [
       "[-0.05775957704391649,\n",
       " 0.0022176722179429453,\n",
       " -0.028808297471471123,\n",
       " 0.03678674523535778]"
      ]
     },
     "execution_count": 10,
     "metadata": {},
     "output_type": "execute_result"
    }
   ],
   "source": [
    "# D) método de estratificación donde se divide en B estratos\n",
    "# compare el resultado con los métodos anteriores cuando se toman  \n",
    "# 2,4,6,10  estratos respectivamente, concluya.\n",
    "\n",
    "def estratificado(N: \"Numero de muestras\"):\n",
    "    U2 = np.random.rand(N)\n",
    "    i = np.arange(0,N)\n",
    "    return (U2+i)/N\n",
    "\n",
    "# Estratos\n",
    "B = np.array([2, 4, 6, 10])\n",
    "fitt = [estratificado(bi) for bi in B]\n",
    "estrato = [[h(var) for var in x] for x in fitt]\n",
    "\n",
    "estratos = list([np.array(estrato[i]).mean() for i in range(4)])\n",
    "estratos"
   ]
  },
  {
   "cell_type": "markdown",
   "metadata": {},
   "source": [
    "**Conclusión:** Cada método nos arroja resultados distintos, y observo que en el estratificado de varias muestras de números, arroja un resultado más acertado al problema."
   ]
  },
  {
   "cell_type": "markdown",
   "metadata": {},
   "source": [
    "#### Código de solución de Tonatiuh"
   ]
  },
  {
   "cell_type": "markdown",
   "metadata": {},
   "source": [
    "$$ \n",
    "f(x) = \\frac{3}{2}x^{2}  \\\\\n",
    "F(x) = \\int_{-1}^{x} \\frac{3}{2}y^{2}dy \\\\\n",
    "F(x) = \\frac{x^{3} + 1}{2} \\\\\n",
    "U = \\frac{x^{3} + 1}{2} \\\\\n",
    "x = \\sqrt[3]{2U-1}\n",
    "$$"
   ]
  },
  {
   "cell_type": "code",
   "execution_count": 11,
   "metadata": {},
   "outputs": [
    {
     "name": "stdout",
     "output_type": "stream",
     "text": [
      "a) Utilizando montecarlo crudo la media es de: 0.2559219233254071\n"
     ]
    }
   ],
   "source": [
    "N=10\n",
    "np.random.seed(717)\n",
    "u = np.random.rand(N)\n",
    "x = np.arange(-1,1,0.01)\n",
    "\n",
    "f = lambda x: 3/2*x**2 #if -1<= x <= 1 else 0\n",
    "F_inv = lambda u: (2*u-1)**(1/3) if u>=.5 else  -(-2*u+1)**(1/3)\n",
    "\n",
    "a = list(map(F_inv,u))\n",
    "\n",
    "#plt.plot(x,f(x))\n",
    "#plt.hist(a,100,density = True);  # graficar con un valor de N más grande\n",
    "\n",
    "print('a) Utilizando montecarlo crudo la media es de:', np.array(a).mean())"
   ]
  },
  {
   "cell_type": "code",
   "execution_count": 12,
   "metadata": {},
   "outputs": [
    {
     "name": "stdout",
     "output_type": "stream",
     "text": [
      "b) Utilizando muestreo estratificado la media es de: -0.05362245707163913\n"
     ]
    }
   ],
   "source": [
    "# Estratificado\n",
    "np.random.seed(717)\n",
    "u1 = np.random.uniform(0, 0.6, 3)\n",
    "u2 = np.random.uniform(0.6, 0.9, 3)\n",
    "u3 = np.random.uniform(0.9, 1, 4)\n",
    "U = [u1, u2, u3]\n",
    "\n",
    "#Encontrar ponderación \n",
    "total =  3+3+4\n",
    "w1 = 3/total/.6\n",
    "w2 = 3/total/.3\n",
    "w3 = 4/total/.1\n",
    "w = [w1,w2,w3]\n",
    " \n",
    "\n",
    "# Iterar para evaluar los valores de U en la funcion\n",
    "m = list(map(lambda x: np.array(list(map(F_inv ,x)))     ,U))\n",
    "\n",
    "\n",
    "# estratifi\n",
    "estratificado = list(map(lambda ui,wi:  ui/wi, m, w))\n",
    "est = np.concatenate(estratificado).mean()\n",
    "\n",
    "print('b) Utilizando muestreo estratificado la media es de:', est)\n",
    " "
   ]
  },
  {
   "cell_type": "code",
   "execution_count": 13,
   "metadata": {},
   "outputs": [
    {
     "name": "stdout",
     "output_type": "stream",
     "text": [
      "c) Utilizando el metodo de los complementarios la media es de: 0.328356959166935\n"
     ]
    }
   ],
   "source": [
    "# Complementarios \n",
    "\n",
    "np.random.seed(717)\n",
    "u1 = np.random.rand(5)\n",
    "u2 = 1-u1\n",
    "uu = [u1,u1]\n",
    "\n",
    "j = list(map(lambda h:np.array(list(map(lambda hh: F_inv(hh)   ,h)))   ,uu))\n",
    "com = np.concatenate(j).mean()\n",
    "\n",
    "print('c) Utilizando el metodo de los complementarios la media es de:', com)"
   ]
  },
  {
   "cell_type": "code",
   "execution_count": 14,
   "metadata": {},
   "outputs": [],
   "source": [
    "def m_estratificado(N: 'Cantidad de terminos'):\n",
    "    \n",
    "    return (np.random.rand(N) + np.arange(0, N))/ N"
   ]
  },
  {
   "cell_type": "code",
   "execution_count": 15,
   "metadata": {},
   "outputs": [
    {
     "name": "stdout",
     "output_type": "stream",
     "text": [
      "d) Con 2,4,6 y 10 estratos la media es de: [0.09856071034382613, 0.018684369093215136, -0.02474644173491915, -0.0031487062674997236]\n"
     ]
    }
   ],
   "source": [
    "np.random.seed(717)\n",
    "\n",
    "B = [2, 4, 6, 10]\n",
    "\n",
    "b = list(map(lambda x: m_estratificado(x)  ,B))\n",
    "\n",
    "bb = list(map(lambda z: np.array(list(map(lambda zz: F_inv(zz)  ,z)))   ,b))\n",
    "\n",
    "estrats = [bb[i].mean() for i in range(len(bb))]\n",
    "\n",
    "print('d) Con 2,4,6 y 10 estratos la media es de:', estrats)"
   ]
  },
  {
   "cell_type": "markdown",
   "metadata": {},
   "source": [
    "**Conclusión**\n",
    "> Es fácilmente apreciable la potencia de cada método, y si bien unos son mucho más efectivos que otros, el más destacable es el de método estratificado, aunque la diferencia es casi mínima, esto puede ser factor clave en ciertos casos."
   ]
  },
  {
   "cell_type": "code",
   "execution_count": null,
   "metadata": {},
   "outputs": [],
   "source": []
  }
 ],
 "metadata": {
  "kernelspec": {
   "display_name": "Python 3",
   "language": "python",
   "name": "python3"
  },
  "language_info": {
   "codemirror_mode": {
    "name": "ipython",
    "version": 3
   },
   "file_extension": ".py",
   "mimetype": "text/x-python",
   "name": "python",
   "nbconvert_exporter": "python",
   "pygments_lexer": "ipython3",
   "version": "3.7.1"
  }
 },
 "nbformat": 4,
 "nbformat_minor": 2
}
